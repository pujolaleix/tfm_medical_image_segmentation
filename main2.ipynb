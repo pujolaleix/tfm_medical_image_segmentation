{
 "cells": [
  {
   "cell_type": "code",
   "execution_count": 1,
   "id": "a4aa4d9c",
   "metadata": {},
   "outputs": [],
   "source": [
    "import pandas as pd\n",
    "\n",
    "from model2_final import main"
   ]
  },
  {
   "cell_type": "markdown",
   "id": "6c1307fd",
   "metadata": {},
   "source": [
    "#### Data Preprocessing and Feature Engineering"
   ]
  },
  {
   "cell_type": "code",
   "execution_count": 2,
   "id": "3f2c5757",
   "metadata": {},
   "outputs": [],
   "source": [
    "db_path = '../data/ORALMED_v10/Images'\n",
    "\n",
    "df_mask = pd.read_csv('../data/ORALMED_v10/oralmedROI_v10.csv', sep=',')\n",
    "df_info = pd.read_excel('../data/ORALMED_v10/oralmedDS_v10.xlsx', sheet_name='Paciente')\n",
    "df_ds = pd.read_excel('../data/ORALMED_v10/oralmedDS_v10.xlsx', sheet_name='Imagen')\n",
    "injury_mapping = pd.read_csv('../data/mapping.csv', sep='\\t')\n"
   ]
  },
  {
   "cell_type": "markdown",
   "id": "8c8e6719",
   "metadata": {},
   "source": [
    "#### Model Training\n",
    "First model training test - classification and segmentation at basic granularity level"
   ]
  },
  {
   "cell_type": "code",
   "execution_count": 3,
   "id": "037a987b",
   "metadata": {},
   "outputs": [
    {
     "name": "stdout",
     "output_type": "stream",
     "text": [
      "[prepare_structured_dataset_df] Wrote per-image bbox counts to: base_per_class_analysis_whealthy/n_bbox_dist\n",
      "Classes: {1: 'benign', 2: 'healthy', 3: 'malignant', 4: 'potentially malignant'}\n",
      "{'benign': 1, 'healthy': 2, 'malignant': 3, 'potentially malignant': 4}\n",
      "Saved histogram to base_per_class_analysis_whealthy/plots/case_label_distribution.png\n",
      "Saved counts to base_per_class_analysis_whealthy/plots/case_label_distribution.csv\n",
      "Patient db size:  1742\n",
      "train size:  1219 | val size:  261 | test size:  262\n",
      "images -> train 3471 | val 881 | test 772\n",
      "\n",
      "Class weights (per label):\n",
      "1: 0.165898\n",
      "2: 3.242508\n",
      "3: 0.426771\n",
      "4: 0.164823\n",
      "cuda\n",
      "Base Mask-RCNN model selected...\n",
      "Entering test mode...\n",
      "[test] Loading checkpoint: base_per_class_analysis_whealthy/best_model.pth\n",
      "GT (val):  base_per_class_analysis_whealthy/coco_gt_val.json\n",
      "GT (test): base_per_class_analysis_whealthy/coco_gt_test.json\n",
      "\n",
      "[test] Split = test\n",
      "[simple_eval_limits] dets/img: 100 -> 5, score: 0.05 -> 0.0, min_size: [800] -> [512], max_size: 1333 -> 800\n"
     ]
    },
    {
     "data": {
      "application/vnd.jupyter.widget-view+json": {
       "model_id": "4976d864bd884aa78add44580fd21ed3",
       "version_major": 2,
       "version_minor": 0
      },
      "text/plain": [
       "Inference detections 1/1:   0%|          | 0/772 [00:00<?, ?it/s]"
      ]
     },
     "metadata": {},
     "output_type": "display_data"
    },
    {
     "name": "stdout",
     "output_type": "stream",
     "text": [
      "dt saved\n",
      "[simple_eval_limits] restored.\n",
      "loading annotations into memory...\n",
      "Done (t=0.01s)\n",
      "creating index...\n",
      "index created!\n",
      "Metrics saved at base_per_class_analysis_whealthy/test/test\n",
      "[test] Finished metrics for test → written to base_per_class_analysis_whealthy/test/test/\n"
     ]
    }
   ],
   "source": [
    "main(\n",
    "    mode_type = \"test\",                                 # [\"train\", \"test\"]\n",
    "    model_type = \"base\",                            # [\"base\", \"custom_roi\"]\n",
    "    images_dir = db_path,\n",
    "    df_roi = df_mask,\n",
    "    df_meta = df_ds,\n",
    "    mapping_target_label = None,                    # if None, no superinjury_label applied\n",
    "    output_dir = \"./base_per_class_analysis_whealthy\",\n",
    "    label_field = \"outcome_label\",                  # [\"injury_label\", \"outcome_label\"]\n",
    "    train_ratio = 0.7,\n",
    "    val_ratio = 0.15,\n",
    "    test_ratio = 0.15,\n",
    "    augmentation_type = \"light\",                    # none = \"base\" or \"light\" or \"strong\"\n",
    "    downsampling_flag = False,\n",
    "    balance_skew = 0.8,                             # [0.0, 1.0] --> from 0.0 for perfectly balanced to 1.0 for original counts (no downsample)\n",
    "    balance_max_ratio = None,                        # >= 1.0     --> enforces that after downsampling: majority/minority count <= max_ratio \n",
    "                                                    #                by capping each class at cap = floor(N_min * max_ratio)\n",
    "    keep_one_bbox = True,\n",
    "    selection_mode = 'largest_area',\n",
    "    batch_size = 4,\n",
    "    epochs = 60,\n",
    "    lr = 0.001,\n",
    "    score_thr = 0.00,\n",
    "    mask_thr = 0.50,\n",
    "    iou_thr = 0.50,\n",
    "    dice_thr= 0.50,\n",
    "    img_acc_score_thr = 0.00,\n",
    "    num_workers = 2,\n",
    "    pretrained = True,\n",
    "    use_amp = True,\n",
    "    optimize_metric = None,                         # \"val\"=None or \"dice\" or \"iou\" or \"ap\"\n",
    "    segm_every = 10,                                #  epochs interval to compute segmentation metrics\n",
    "    scheduler_type = \"cosine\",                      # [\"cosine\", \"plateau\"]\n",
    "    sampler_alpha = 0.6,                            # smoothing factor to soften oversampling - it controls class weights in WeightRandomSampler\n",
    "    max_class_weights = 3.5,                        # [2.0 - 5.0] --> controls max weight assigned to a class in loss function in CustomROI Mask-RCNN model\n",
    "    dice_alpha = 0.0,                               # set to 0.0 for full Dice loss, set to 1.0 for full BCE/Focal loss. In-between values weight both.\n",
    "    use_bce = False,                                # True for BCE loss for mask\n",
    "    use_focal = True,                               # True for Focal loss for mask\n",
    "    focal_alpha = 0.25,                             \n",
    "    focal_gamma = 2.0,              \n",
    "    label_smoothing = 0.05,\n",
    "    dropout_alpha = 0.2,\n",
    ")"
   ]
  },
  {
   "cell_type": "code",
   "execution_count": null,
   "id": "912f2095",
   "metadata": {},
   "outputs": [],
   "source": []
  },
  {
   "cell_type": "markdown",
   "id": "211a469c",
   "metadata": {},
   "source": [
    "#### Inference - Test Set"
   ]
  },
  {
   "cell_type": "markdown",
   "id": "158a7970",
   "metadata": {},
   "source": [
    "#### Metrics & Visualization"
   ]
  },
  {
   "cell_type": "code",
   "execution_count": 3,
   "id": "a51dcaee",
   "metadata": {},
   "outputs": [
    {
     "data": {
      "text/plain": [
       "'./base_cosine_light_downsampled_outcome_label/val_errors_0p50.csv'"
      ]
     },
     "execution_count": 3,
     "metadata": {},
     "output_type": "execute_result"
    }
   ],
   "source": [
    "from error_report import save_detection_error_report\n",
    "save_detection_error_report(\n",
    "    gt_json=str(\"./base_cosine_light_downsampled_outcome_label/coco_gt_val.json\"),\n",
    "    dt_json=str(\"./base_cosine_light_downsampled_outcome_label/coco_dt_bbox_val.json\"),\n",
    "    out_csv=str(\"./base_cosine_light_downsampled_outcome_label/val_errors_0p50.csv\"),\n",
    "    iou_thresh=0.50\n",
    ")"
   ]
  },
  {
   "cell_type": "code",
   "execution_count": 4,
   "id": "84750378",
   "metadata": {},
   "outputs": [
    {
     "name": "stdout",
     "output_type": "stream",
     "text": [
      "Saved: {'TP': 6, 'FP': 20, 'FN': 20}\n"
     ]
    }
   ],
   "source": [
    "from error_visualizer import visualize_errors_from_csv\n",
    "counts = visualize_errors_from_csv(\n",
    "    csv_path=str(\"./base_cosine_light_downsampled_outcome_label/val_errors_0p50.csv\"),\n",
    "    images_root=db_path,\n",
    "    out_dir=str(\"./base_cosine_light_downsampled_outcome_label/val_error_viz\"),\n",
    "    max_images_per_type=20,\n",
    "    resize_max=1600,\n",
    "    style_scale=1.2,\n",
    "    line_thickness=10,\n",
    "    font_size=20,\n",
    "    font_path=\"/usr/share/fonts/truetype/dejavu/DejaVuSans.ttf\",\n",
    ")\n",
    "print(\"Saved:\", counts)"
   ]
  },
  {
   "cell_type": "code",
   "execution_count": null,
   "id": "4bf86355",
   "metadata": {},
   "outputs": [],
   "source": []
  }
 ],
 "metadata": {
  "kernelspec": {
   "display_name": "Python 3",
   "language": "python",
   "name": "python3"
  },
  "language_info": {
   "codemirror_mode": {
    "name": "ipython",
    "version": 3
   },
   "file_extension": ".py",
   "mimetype": "text/x-python",
   "name": "python",
   "nbconvert_exporter": "python",
   "pygments_lexer": "ipython3",
   "version": "3.8.10"
  }
 },
 "nbformat": 4,
 "nbformat_minor": 5
}
